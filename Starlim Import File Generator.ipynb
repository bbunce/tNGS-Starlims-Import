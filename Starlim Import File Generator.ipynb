{
 "cells": [
  {
   "cell_type": "markdown",
   "metadata": {},
   "source": [
    "# Custom Report Generator\n",
    "### Takes in tNGS outfile and sequencing load file to create 'custom report' file to be able to import into Starlims"
   ]
  },
  {
   "cell_type": "code",
   "execution_count": 92,
   "metadata": {},
   "outputs": [],
   "source": [
    "import pandas as pd\n",
    "import os"
   ]
  },
  {
   "cell_type": "code",
   "execution_count": 93,
   "metadata": {},
   "outputs": [],
   "source": [
    "tngs = pd.read_csv('../output/tNGS_export.csv')\n",
    "# seq = pd.read_csv('../data/seq1.csv',delimiter=\"\\t\")\n",
    "seq = pd.read_csv('../data/seq2.csv')\n",
    "\n",
    "seq.columns = [c.replace(' ', '_') for c in seq.columns]\n",
    "tngs.columns = [c.replace(' ', '_') for c in tngs.columns]\n",
    "\n",
    "# Starlims sequencing'NGS' workbatch number\n",
    "workbatchNo = seq['Container_Name'][0]\n",
    "# Remove unwanted columns\n",
    "seq = seq.iloc[4:,:2].copy()\n",
    "# rename seq columns\n",
    "seq.columns = [\"Well\", \"ID\"]"
   ]
  },
  {
   "cell_type": "code",
   "execution_count": 156,
   "metadata": {},
   "outputs": [],
   "source": [
    "# Get starlims 'amplicon'\n",
    "star_amplicon = workbatchNo"
   ]
  },
  {
   "cell_type": "code",
   "execution_count": 95,
   "metadata": {},
   "outputs": [],
   "source": [
    "# need to get a dictionary of all sample ID from sequencing load file as that represents what can get \n",
    "# imported back into Starlims. Mostly important for the ddPCR mutation details import\n",
    "samples = list(seq['ID'].unique())\n",
    "del samples[:4]\n",
    "samples = [sample[:9] for sample in samples]"
   ]
  },
  {
   "cell_type": "code",
   "execution_count": 96,
   "metadata": {},
   "outputs": [],
   "source": [
    "# new column with sample id and mutsurveyor variant\n",
    "tngs['id_variant'] = tngs['Folder_number'] + \"_\" + tngs['MutSurveyor']\n",
    "tngs_var = list(tngs['id_variant'].unique())\n",
    "tngs_var = [var for var in tngs_var if str(var) != 'nan']"
   ]
  },
  {
   "cell_type": "code",
   "execution_count": 97,
   "metadata": {},
   "outputs": [],
   "source": [
    "# new column with sample id and mutation details variant\n",
    "tngs['id_mut'] = tngs['Folder_number'] + \"_\" + tngs['MutDetails']\n",
    "tngs_mut = list(tngs['id_mut'].unique())"
   ]
  },
  {
   "cell_type": "code",
   "execution_count": 98,
   "metadata": {},
   "outputs": [],
   "source": [
    "# new columns with sample id and genomic nomenclature\n",
    "tngs['id_genomic'] = tngs['Folder_number'] + \"_\" + tngs['Genomic_nomenclature']\n",
    "tngs_genomic = list(tngs['id_genomic'].unique())"
   ]
  },
  {
   "cell_type": "code",
   "execution_count": 99,
   "metadata": {},
   "outputs": [],
   "source": [
    "# create a dictionary with sample id's and associated variants\n",
    "sample_vars = {k:[] for k in samples}\n",
    "for sample in samples:\n",
    "    for variant in tngs_var:\n",
    "        if sample == variant[:9]:\n",
    "            try:\n",
    "                sample_vars[sample].append(variant[10:])\n",
    "            except:\n",
    "                sample_vars[sample] = [variant[10:]]"
   ]
  },
  {
   "cell_type": "code",
   "execution_count": 100,
   "metadata": {},
   "outputs": [],
   "source": [
    "# create custom report template\n",
    "def create_custom_report():\n",
    "    f = open(f'{os.getcwd()}/../output/custom_report.txt', 'w+')\n",
    "    header = \"Warning!\\nSample Name\\tReference Name\\tLane Quality\\tROI Coverage\\t#nts below threshold\\tQuality ROI\\tVariant1\\tVariant3\\tVariant3\\tVariant4\\n\"\n",
    "    body = \"\"\n",
    "    for sample in sample_vars:\n",
    "        no_vars = len(sample_vars[sample])\n",
    "        sample_id = sample + star_amplicon + workbatchNo\n",
    "        if no_vars == 1:\n",
    "            body += f\"{sample_id}\\t\\t\\t\\t\\t\\t{sample_vars[sample][0]}\\n\"\n",
    "        elif no_vars == 2:\n",
    "            body += f\"{sample_id}\\t\\t\\t\\t\\t\\t{sample_vars[sample][0]}\\t{sample_vars[sample][1]}\\n\"        \n",
    "        elif no_vars == 3:\n",
    "            body += f\"{sample_id}\\t\\t\\t\\t\\t\\t{sample_vars[sample][0]}\\t{sample_vars[sample][1]}\\t{sample_vars[sample][2]}\\n\" \n",
    "        elif no_vars == 4:\n",
    "            body += f\"{sample_id}\\t\\t\\t\\t\\t\\t{sample_vars[sample][0]}\\t{sample_vars[sample][1]}\\t{sample_vars[sample][2]}\\t{sample_vars[sample][3]}\\n\"\n",
    "        else:\n",
    "            body += f\"{sample_id}\\t\\t\\t\\t\\t\\t\\t\\t\\t\\t\\n\"\n",
    "    f.write(header)\n",
    "    f.write(body)\n",
    "    f.close()\n",
    "\n",
    "create_custom_report()"
   ]
  },
  {
   "cell_type": "code",
   "execution_count": null,
   "metadata": {},
   "outputs": [],
   "source": []
  },
  {
   "cell_type": "markdown",
   "metadata": {},
   "source": [
    "# Mutation details import\n",
    "- Well | SampleID | MutDetail | Genomic\n",
    "- Well + SampleID taken from seq.csv\n",
    "- MutDetail and Genomic taken from tNGS_export.csv"
   ]
  },
  {
   "cell_type": "code",
   "execution_count": 102,
   "metadata": {},
   "outputs": [],
   "source": [
    "# Create Well-Sample dictionary {well:Sample} from seq.csv\n",
    "well_sample = {}\n",
    "well = list(seq['Well'].unique())\n",
    "seqID = [x[:9] for x in list(seq['ID'].unique())]\n",
    "for w, s in zip(well, seqID):\n",
    "    well_sample[w] = s"
   ]
  },
  {
   "cell_type": "code",
   "execution_count": null,
   "metadata": {},
   "outputs": [],
   "source": []
  },
  {
   "cell_type": "code",
   "execution_count": 155,
   "metadata": {},
   "outputs": [],
   "source": [
    "# new seq dictionary, nested lists with mutdetails and genomic nomenclature\n",
    "seq_mut = {k:[[],[],[]] for k in seqID}\n",
    "for sample in seqID:\n",
    "    for well in well_sample:\n",
    "        if sample == well_sample[well]:\n",
    "            try:\n",
    "                seq_mut[sample][0].append(well)\n",
    "            except:\n",
    "                seq_mut[sample][0] = [well]\n",
    "    for variant in tngs_mut:\n",
    "        if sample == variant[:9]:\n",
    "            try:\n",
    "                seq_mut[sample][1].append(variant[10:])\n",
    "            except:\n",
    "                seq_mut[sample][1] = [variant[10:]]\n",
    "    for genomic in tngs_genomic:\n",
    "        if sample == str(genomic)[:9]:\n",
    "            try:\n",
    "                seq_mut[sample][2].append(str(genomic)[10:])\n",
    "            except:\n",
    "                seq_mut[sample][2] = [str(genomic)[10:]]"
   ]
  },
  {
   "cell_type": "code",
   "execution_count": null,
   "metadata": {},
   "outputs": [],
   "source": []
  },
  {
   "cell_type": "code",
   "execution_count": 154,
   "metadata": {},
   "outputs": [],
   "source": [
    "# create variant_details import\n",
    "def create_variant_import():\n",
    "    f = open(f'{os.getcwd()}/../output/variant_import.csv', 'w+')\n",
    "    header = \"Well,Sample,Variant1,Genomic1,Variant2,Genomic2,Variant3,Genomic3\\n\"\n",
    "    body = \"\"\n",
    "    for sample in seq_mut:\n",
    "        no_vars = len(seq_mut[sample][1])\n",
    "        if len(seq_mut[sample][2]) == 0:\n",
    "            body += f\"{seq_mut[sample][0][0]},{sample},,,,,,\\n\"\n",
    "        elif no_vars == 1:\n",
    "            body += f\"{seq_mut[sample][0][0]},{sample},{seq_mut[sample][1][0]},{seq_mut[sample][2][0]},,,,\\n\"\n",
    "        elif no_vars == 2:\n",
    "            body += f\"{seq_mut[sample][0][0]},{sample},{seq_mut[sample][1][0]},{seq_mut[sample][2][0]},{seq_mut[sample][1][1]},{seq_mut[sample][2][1]},,\\n\"       \n",
    "        elif no_vars == 3:\n",
    "            body += f\"{seq_mut[sample][0][0]},{sample},{seq_mut[sample][1][0]},{seq_mut[sample][2][0]},{seq_mut[sample][1][1]},{seq_mut[sample][2][1]},{seq_mut[sample][1][2]},{seq_mut[sample][2][2]}\\n\" \n",
    "        else:\n",
    "            body += f\"{seq_mut[sample][0][0]},{sample},,,,,,\\n\"\n",
    "    f.write(header)\n",
    "    f.write(body)\n",
    "    f.close()\n",
    "\n",
    "create_variant_import()"
   ]
  },
  {
   "cell_type": "code",
   "execution_count": null,
   "metadata": {
    "scrolled": true
   },
   "outputs": [],
   "source": []
  },
  {
   "cell_type": "code",
   "execution_count": null,
   "metadata": {},
   "outputs": [],
   "source": []
  }
 ],
 "metadata": {
  "kernelspec": {
   "display_name": "Python 3",
   "language": "python",
   "name": "python3"
  },
  "language_info": {
   "codemirror_mode": {
    "name": "ipython",
    "version": 3
   },
   "file_extension": ".py",
   "mimetype": "text/x-python",
   "name": "python",
   "nbconvert_exporter": "python",
   "pygments_lexer": "ipython3",
   "version": "3.6.9"
  }
 },
 "nbformat": 4,
 "nbformat_minor": 2
}
